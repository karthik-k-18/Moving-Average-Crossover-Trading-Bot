{
 "cells": [
  {
   "cell_type": "markdown",
   "metadata": {},
   "source": [
    "Moving Average Crossover Strategy"
   ]
  },
  {
   "cell_type": "code",
   "execution_count": 1,
   "metadata": {},
   "outputs": [],
   "source": [
    "import requests\n",
    "import numpy as np\n",
    "import pandas as pd\n",
    "\n",
    "intrinio_api_key = \"OmIzODUyMTg2MTdkYTU5NGM0M2UxYzA1M2IxZWQyZTZi\"\n",
    "\n",
    "def _stock_prices_dataset(ticker):\n",
    "\n",
    "  res = requests.get(f\"https://api-v2.intrinio.com/securities/{ticker}/prices?page_size=1000&api_key={intrinio_api_key}\")\n",
    "  stock_prices_dataset = pd.DataFrame(res.json().get(\"stock_prices\"))\n",
    "  stock_prices_dataset = stock_prices_dataset[[\"date\", \"adj_close\"]][::-1].reset_index(drop=True)\n",
    "\n",
    "  stock_prices_dataset[\"returns\"] = np.log(stock_prices_dataset[\"adj_close\"]).diff()\n",
    "  stock_prices_dataset[\"returns\"] = stock_prices_dataset[\"returns\"].shift(-1)\n",
    "\n",
    "  return stock_prices_dataset"
   ]
  },
  {
   "cell_type": "code",
   "execution_count": null,
   "metadata": {},
   "outputs": [],
   "source": [
    "def _sma_stock_prices_dataset(stock_prices_dataset, long_sma = 200, short_sma = 50):\n",
    "\n",
    "  stock_prices_dataset[f\"{long_sma}_day_sma\"] = stock_prices_dataset[\"adj_close\"].rolling(long_sma).mean()\n",
    "  stock_prices_dataset[f\"{short_sma}_day_sma\"] = stock_prices_dataset[\"adj_close\"].rolling(short_sma).mean()\n",
    "  stock_prices_dataset = stock_prices_dataset.dropna()\n",
    "  stock_prices_dataset = stock_prices_dataset.reset_index(drop=True)\n",
    "\n",
    "  return stock_prices_dataset"
   ]
  }
 ],
 "metadata": {
  "kernelspec": {
   "display_name": "base",
   "language": "python",
   "name": "python3"
  },
  "language_info": {
   "codemirror_mode": {
    "name": "ipython",
    "version": 3
   },
   "file_extension": ".py",
   "mimetype": "text/x-python",
   "name": "python",
   "nbconvert_exporter": "python",
   "pygments_lexer": "ipython3",
   "version": "3.11.5"
  }
 },
 "nbformat": 4,
 "nbformat_minor": 2
}
