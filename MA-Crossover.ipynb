{
 "cells": [
  {
   "cell_type": "markdown",
   "metadata": {},
   "source": [
    "Moving Average Crossover Strategy"
   ]
  },
  {
   "cell_type": "code",
   "execution_count": 1,
   "metadata": {},
   "outputs": [],
   "source": [
    "import requests\n",
    "import numpy as np\n",
    "import pandas as pd\n",
    "\n",
    "intrinio_api_key = \"OmIzODUyMTg2MTdkYTU5NGM0M2UxYzA1M2IxZWQyZTZi\"\n",
    "\n",
    "def _stock_prices_dataset(ticker):\n",
    "\n",
    "  res = requests.get(f\"https://api-v2.intrinio.com/securities/{ticker}/prices?page_size=1000&api_key={intrinio_api_key}\")\n",
    "  stock_prices_dataset = pd.DataFrame(res.json().get(\"stock_prices\"))\n",
    "  stock_prices_dataset = stock_prices_dataset[[\"date\", \"adj_close\"]][::-1].reset_index(drop=True)\n",
    "\n",
    "  stock_prices_dataset[\"returns\"] = np.log(stock_prices_dataset[\"adj_close\"]).diff()\n",
    "  stock_prices_dataset[\"returns\"] = stock_prices_dataset[\"returns\"].shift(-1)\n",
    "\n",
    "  return stock_prices_dataset"
   ]
  },
  {
   "cell_type": "code",
   "execution_count": null,
   "metadata": {},
   "outputs": [],
   "source": [
    "def _sma_stock_prices_dataset(stock_prices_dataset, long_sma = 200, short_sma = 50):\n",
    "\n",
    "  stock_prices_dataset[f\"{long_sma}_day_sma\"] = stock_prices_dataset[\"adj_close\"].rolling(long_sma).mean()\n",
    "  stock_prices_dataset[f\"{short_sma}_day_sma\"] = stock_prices_dataset[\"adj_close\"].rolling(short_sma).mean()\n",
    "  stock_prices_dataset = stock_prices_dataset.dropna()\n",
    "  stock_prices_dataset = stock_prices_dataset.reset_index(drop=True)\n",
    "\n",
    "  return stock_prices_dataset"
   ]
  },
  {
   "cell_type": "code",
   "execution_count": null,
   "metadata": {},
   "outputs": [],
   "source": [
    "def _sma_crossover_dataset(sma_stock_prices_dataset, long_sma = 200, short_sma = 50):\n",
    "\n",
    "  sma_crossover_datalist = []\n",
    "\n",
    "  sma_stock_prices_dataset[\"crossover_signal\"] = np.where(sma_stock_prices_dataset[f\"{short_sma}_day_sma\"] >= sma_stock_prices_dataset[f\"{long_sma}_day_sma\"], 1, 0)\n",
    "  sma_stock_prices_dataset[\"prev_crossover_signal\"] = sma_stock_prices_dataset[\"crossover_signal\"].shift(1, fill_value=0)\n",
    "\n",
    "  sma_stock_prices_dataset[\"buy\"] = (sma_stock_prices_dataset[\"crossover_signal\"] == 1) & (sma_stock_prices_dataset[\"prev_crossover_signal\"] == 0)\n",
    "  sma_stock_prices_dataset[\"buy\"]  = sma_stock_prices_dataset[\"buy\"] .replace({True: 1, False: 0})\n",
    "  sma_stock_prices_dataset[\"sell\"] = (sma_stock_prices_dataset[\"crossover_signal\"] == 0) & (sma_stock_prices_dataset[\"prev_crossover_signal\"] == 1)\n",
    "  sma_stock_prices_dataset[\"sell\"]  = sma_stock_prices_dataset[\"sell\"] .replace({True: 1, False: 0})\n",
    "  \n",
    "  holding = False\n",
    "  for sma_stock_prices in sma_stock_prices_dataset.to_dict(\"records\"):\n",
    "    \n",
    "    if holding and sma_stock_prices.get(\"sell\") == 1:\n",
    "      holding = False\n",
    "    \n",
    "    if not holding and sma_stock_prices.get(\"buy\") == 1:\n",
    "      holding = True\n",
    "\n",
    "    sma_stock_prices[\"hold\"] = holding\n",
    "    sma_crossover_datalist.append(sma_stock_prices)\n",
    "  \n",
    "  sma_crossover_dataset = pd.DataFrame(sma_crossover_datalist)\n",
    "\n",
    "  return sma_crossover_dataset"
   ]
  },
  {
   "cell_type": "code",
   "execution_count": null,
   "metadata": {},
   "outputs": [],
   "source": [
    "def _sma_returns_data(sma_crossover_dataset):\n",
    "\n",
    "  sma_crossover_dataset[\"algo_returns\"] = sma_crossover_dataset[\"returns\"] * sma_crossover_dataset[\"hold\"]\n",
    "  sma_return = round(sma_crossover_dataset[\"algo_returns\"].sum() * 100, 3)\n",
    "  buy_and_hold_return = round(sma_crossover_dataset[\"returns\"].sum() * 100, 3)\n",
    "  total_entries = sma_crossover_dataset[\"buy\"].sum()\n",
    "\n",
    "  return sma_return, buy_and_hold_return, total_entries"
   ]
  }
 ],
 "metadata": {
  "kernelspec": {
   "display_name": "base",
   "language": "python",
   "name": "python3"
  },
  "language_info": {
   "codemirror_mode": {
    "name": "ipython",
    "version": 3
   },
   "file_extension": ".py",
   "mimetype": "text/x-python",
   "name": "python",
   "nbconvert_exporter": "python",
   "pygments_lexer": "ipython3",
   "version": "3.11.5"
  }
 },
 "nbformat": 4,
 "nbformat_minor": 2
}
