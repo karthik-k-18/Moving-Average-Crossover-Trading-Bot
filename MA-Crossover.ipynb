{
 "cells": [
  {
   "cell_type": "markdown",
   "metadata": {},
   "source": [
    "Moving Average Crossover Strategy"
   ]
  },
  {
   "cell_type": "code",
   "execution_count": 22,
   "metadata": {},
   "outputs": [],
   "source": [
    "import numpy as np \n",
    "import pandas as pd \n",
    "import yfinance as yf \n",
    "\n",
    "def _stock_prices_dataset(ticker): \n",
    "  \n",
    "  #import data from yahoo finance \n",
    "  stock_prices_dataset = yf.download(ticker, start=\"2020-01-01\", end=\"2024-01-01\") \n",
    "  \n",
    "  stock_prices_dataset = stock_prices_dataset[[\"Adj Close\"]].reset_index(drop=True) \n",
    "   \n",
    "  stock_prices_dataset[\"returns\"] = np.log(stock_prices_dataset[\"Adj Close\"]).diff() \n",
    "  \n",
    "  stock_prices_dataset[\"returns\"] = stock_prices_dataset[\"returns\"].shift(-1) \n",
    "\n",
    "  return stock_prices_dataset "
   ]
  },
  {
   "cell_type": "code",
   "execution_count": 23,
   "metadata": {},
   "outputs": [],
   "source": [
    "def _sma_stock_prices_dataset(stock_prices_dataset, long_sma = 200, short_sma = 50):\n",
    "\n",
    "  stock_prices_dataset[f\"{long_sma}_day_sma\"] = stock_prices_dataset[\"Adj Close\"].rolling(long_sma).mean()\n",
    "  stock_prices_dataset[f\"{short_sma}_day_sma\"] = stock_prices_dataset[\"Adj Close\"].rolling(short_sma).mean()\n",
    "  stock_prices_dataset = stock_prices_dataset.dropna()\n",
    "  stock_prices_dataset = stock_prices_dataset.reset_index(drop=True)\n",
    "\n",
    "  return stock_prices_dataset"
   ]
  },
  {
   "cell_type": "code",
   "execution_count": 24,
   "metadata": {},
   "outputs": [],
   "source": [
    "def _sma_crossover_dataset(sma_stock_prices_dataset, long_sma = 200, short_sma = 50):\n",
    "\n",
    "  sma_crossover_datalist = []\n",
    "\n",
    "  sma_stock_prices_dataset[\"crossover_signal\"] = np.where(sma_stock_prices_dataset[f\"{short_sma}_day_sma\"] >= sma_stock_prices_dataset[f\"{long_sma}_day_sma\"], 1, 0)\n",
    "  sma_stock_prices_dataset[\"prev_crossover_signal\"] = sma_stock_prices_dataset[\"crossover_signal\"].shift(1, fill_value=0)\n",
    "\n",
    "  sma_stock_prices_dataset[\"buy\"] = (sma_stock_prices_dataset[\"crossover_signal\"] == 1) & (sma_stock_prices_dataset[\"prev_crossover_signal\"] == 0)\n",
    "  sma_stock_prices_dataset[\"buy\"]  = sma_stock_prices_dataset[\"buy\"] .replace({True: 1, False: 0})\n",
    "  sma_stock_prices_dataset[\"sell\"] = (sma_stock_prices_dataset[\"crossover_signal\"] == 0) & (sma_stock_prices_dataset[\"prev_crossover_signal\"] == 1)\n",
    "  sma_stock_prices_dataset[\"sell\"]  = sma_stock_prices_dataset[\"sell\"] .replace({True: 1, False: 0})\n",
    "  \n",
    "  holding = False\n",
    "  for sma_stock_prices in sma_stock_prices_dataset.to_dict(\"records\"):\n",
    "    \n",
    "    if holding and sma_stock_prices.get(\"sell\") == 1:\n",
    "      holding = False\n",
    "    \n",
    "    if not holding and sma_stock_prices.get(\"buy\") == 1:\n",
    "      holding = True\n",
    "\n",
    "    sma_stock_prices[\"hold\"] = holding\n",
    "    sma_crossover_datalist.append(sma_stock_prices)\n",
    "  \n",
    "  sma_crossover_dataset = pd.DataFrame(sma_crossover_datalist)\n",
    "\n",
    "  return sma_crossover_dataset"
   ]
  },
  {
   "cell_type": "code",
   "execution_count": 25,
   "metadata": {},
   "outputs": [
    {
     "name": "stderr",
     "output_type": "stream",
     "text": [
      "[*********************100%%**********************]  1 of 1 completed"
     ]
    },
    {
     "name": "stdout",
     "output_type": "stream",
     "text": [
      "      Adj Close   returns  200_day_sma  50_day_sma  crossover_signal  \\\n",
      "0    118.259949 -0.014100    86.583096  114.545799                 1   \n",
      "1    116.604240 -0.025874    86.800820  114.650088                 1   \n",
      "2    113.625961  0.013106    87.007204  114.745462                 1   \n",
      "3    115.124893 -0.005461    87.218200  114.839171                 1   \n",
      "4    114.497902 -0.009630    87.427776  114.986029                 1   \n",
      "..          ...       ...          ...         ...               ...   \n",
      "801  194.431885 -0.005563   177.831922  184.808136                 1   \n",
      "802  193.353287 -0.002845   178.049736  185.070357                 1   \n",
      "803  192.803986  0.000518   178.275199  185.358695                 1   \n",
      "804  192.903839  0.002224   178.491362  185.651624                 1   \n",
      "805  193.333298 -0.005439   178.699129  185.984461                 1   \n",
      "\n",
      "     prev_crossover_signal  buy  sell  hold  \n",
      "0                        0    1     0  True  \n",
      "1                        1    0     0  True  \n",
      "2                        1    0     0  True  \n",
      "3                        1    0     0  True  \n",
      "4                        1    0     0  True  \n",
      "..                     ...  ...   ...   ...  \n",
      "801                      1    0     0  True  \n",
      "802                      1    0     0  True  \n",
      "803                      1    0     0  True  \n",
      "804                      1    0     0  True  \n",
      "805                      1    0     0  True  \n",
      "\n",
      "[806 rows x 9 columns]\n"
     ]
    },
    {
     "name": "stderr",
     "output_type": "stream",
     "text": [
      "\n"
     ]
    }
   ],
   "source": [
    "print(_sma_crossover_dataset(_sma_stock_prices_dataset(_stock_prices_dataset(\"AAPL\"))))"
   ]
  },
  {
   "cell_type": "code",
   "execution_count": 26,
   "metadata": {},
   "outputs": [],
   "source": [
    "def _sma_returns_data(sma_crossover_dataset):\n",
    "\n",
    "  sma_crossover_dataset[\"algo_returns\"] = sma_crossover_dataset[\"returns\"] * sma_crossover_dataset[\"hold\"]\n",
    "  sma_return = round(sma_crossover_dataset[\"algo_returns\"].sum() * 100, 3)\n",
    "  buy_and_hold_return = round(sma_crossover_dataset[\"returns\"].sum() * 100, 3)\n",
    "  total_entries = sma_crossover_dataset[\"buy\"].sum()\n",
    "\n",
    "  return sma_return, buy_and_hold_return, total_entries"
   ]
  },
  {
   "cell_type": "code",
   "execution_count": 27,
   "metadata": {},
   "outputs": [
    {
     "name": "stderr",
     "output_type": "stream",
     "text": [
      "[*********************100%%**********************]  1 of 1 completed\n"
     ]
    },
    {
     "name": "stdout",
     "output_type": "stream",
     "text": [
      "SMA Return: 32.588\n",
      "Buy and Hold Return: 48.609\n",
      "Total Entries: 3\n"
     ]
    }
   ],
   "source": [
    "def sma_handler(ticker, long_sma = 200, short_sma = 50):\n",
    "\n",
    "  stock_prices_dataset = _stock_prices_dataset(ticker)\n",
    "  # start_date = stock_prices_dataset.iloc[0]['date']\n",
    "  sma_stock_prices_dataset = _sma_stock_prices_dataset(stock_prices_dataset, long_sma, short_sma)\n",
    "  sma_crossover_dataset = _sma_crossover_dataset(sma_stock_prices_dataset, long_sma, short_sma)\n",
    "  sma_return, buy_and_hold_return, total_entries = _sma_returns_data(sma_crossover_dataset)\n",
    "  \n",
    "  # print(f\"Start Date: {start_date}\")\n",
    "  print(f\"SMA Return: {sma_return}\")\n",
    "  print(f\"Buy and Hold Return: {buy_and_hold_return}\")\n",
    "  print(f\"Total Entries: {total_entries}\")\n",
    "\n",
    "sma_handler(\"AAPL\")\n"
   ]
  }
 ],
 "metadata": {
  "kernelspec": {
   "display_name": "base",
   "language": "python",
   "name": "python3"
  },
  "language_info": {
   "codemirror_mode": {
    "name": "ipython",
    "version": 3
   },
   "file_extension": ".py",
   "mimetype": "text/x-python",
   "name": "python",
   "nbconvert_exporter": "python",
   "pygments_lexer": "ipython3",
   "version": "3.11.5"
  }
 },
 "nbformat": 4,
 "nbformat_minor": 2
}
