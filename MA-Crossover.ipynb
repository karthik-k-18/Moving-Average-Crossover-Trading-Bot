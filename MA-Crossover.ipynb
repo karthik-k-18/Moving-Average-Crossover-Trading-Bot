{
 "cells": [
  {
   "cell_type": "markdown",
   "metadata": {},
   "source": [
    "Moving Average Crossover Strategy"
   ]
  },
  {
   "cell_type": "code",
   "execution_count": 62,
   "metadata": {},
   "outputs": [],
   "source": [
    "import numpy as np\n",
    "import pandas as pd\n",
    "import yfinance as yf\n",
    "\n",
    "def _stock_prices_dataset(ticker):\n",
    "  \n",
    "  #import data from yahoo finance\n",
    "  stock_prices_dataset = yf.download(ticker, start=\"2020-01-01\", end=\"2021-01-01\")\n",
    "  \n",
    "  stock_prices_dataset = stock_prices_dataset[[\"Adj Close\"]].reset_index(drop=True)\n",
    "  \n",
    "  stock_prices_dataset[\"returns\"] = np.log(stock_prices_dataset[\"Adj Close\"]).diff()\n",
    "  \n",
    "  stock_prices_dataset[\"returns\"] = stock_prices_dataset[\"returns\"].shift(-1)\n",
    "\n",
    "  return stock_prices_dataset"
   ]
  },
  {
   "cell_type": "code",
   "execution_count": 63,
   "metadata": {},
   "outputs": [
    {
     "name": "stderr",
     "output_type": "stream",
     "text": [
      "[*********************100%%**********************]  1 of 1 completed"
     ]
    },
    {
     "name": "stdout",
     "output_type": "stream",
     "text": [
      "      Adj Close   returns\n",
      "0     73.059433 -0.009770\n",
      "1     72.349129  0.007937\n",
      "2     72.925621 -0.004714\n",
      "3     72.582664  0.015958\n",
      "4     73.750244  0.021018\n",
      "..          ...       ...\n",
      "248  129.514435  0.035141\n",
      "249  134.146652 -0.013404\n",
      "250  132.360504 -0.008563\n",
      "251  131.231903 -0.007732\n",
      "252  130.221100       NaN\n",
      "\n",
      "[253 rows x 2 columns]\n"
     ]
    },
    {
     "name": "stderr",
     "output_type": "stream",
     "text": [
      "\n"
     ]
    }
   ],
   "source": [
    "print(_stock_prices_dataset(\"AAPL\"))"
   ]
  },
  {
   "cell_type": "code",
   "execution_count": 5,
   "metadata": {},
   "outputs": [],
   "source": [
    "def _sma_stock_prices_dataset(stock_prices_dataset, long_sma = 200, short_sma = 50):\n",
    "\n",
    "  stock_prices_dataset[f\"{long_sma}_day_sma\"] = stock_prices_dataset[\"adj_close\"].rolling(long_sma).mean()\n",
    "  stock_prices_dataset[f\"{short_sma}_day_sma\"] = stock_prices_dataset[\"adj_close\"].rolling(short_sma).mean()\n",
    "  stock_prices_dataset = stock_prices_dataset.dropna()\n",
    "  stock_prices_dataset = stock_prices_dataset.reset_index(drop=True)\n",
    "\n",
    "  return stock_prices_dataset"
   ]
  },
  {
   "cell_type": "code",
   "execution_count": 6,
   "metadata": {},
   "outputs": [],
   "source": [
    "def _sma_crossover_dataset(sma_stock_prices_dataset, long_sma = 200, short_sma = 50):\n",
    "\n",
    "  sma_crossover_datalist = []\n",
    "\n",
    "  sma_stock_prices_dataset[\"crossover_signal\"] = np.where(sma_stock_prices_dataset[f\"{short_sma}_day_sma\"] >= sma_stock_prices_dataset[f\"{long_sma}_day_sma\"], 1, 0)\n",
    "  sma_stock_prices_dataset[\"prev_crossover_signal\"] = sma_stock_prices_dataset[\"crossover_signal\"].shift(1, fill_value=0)\n",
    "\n",
    "  sma_stock_prices_dataset[\"buy\"] = (sma_stock_prices_dataset[\"crossover_signal\"] == 1) & (sma_stock_prices_dataset[\"prev_crossover_signal\"] == 0)\n",
    "  sma_stock_prices_dataset[\"buy\"]  = sma_stock_prices_dataset[\"buy\"] .replace({True: 1, False: 0})\n",
    "  sma_stock_prices_dataset[\"sell\"] = (sma_stock_prices_dataset[\"crossover_signal\"] == 0) & (sma_stock_prices_dataset[\"prev_crossover_signal\"] == 1)\n",
    "  sma_stock_prices_dataset[\"sell\"]  = sma_stock_prices_dataset[\"sell\"] .replace({True: 1, False: 0})\n",
    "  \n",
    "  holding = False\n",
    "  for sma_stock_prices in sma_stock_prices_dataset.to_dict(\"records\"):\n",
    "    \n",
    "    if holding and sma_stock_prices.get(\"sell\") == 1:\n",
    "      holding = False\n",
    "    \n",
    "    if not holding and sma_stock_prices.get(\"buy\") == 1:\n",
    "      holding = True\n",
    "\n",
    "    sma_stock_prices[\"hold\"] = holding\n",
    "    sma_crossover_datalist.append(sma_stock_prices)\n",
    "  \n",
    "  sma_crossover_dataset = pd.DataFrame(sma_crossover_datalist)\n",
    "\n",
    "  return sma_crossover_dataset"
   ]
  },
  {
   "cell_type": "code",
   "execution_count": 7,
   "metadata": {},
   "outputs": [],
   "source": [
    "def _sma_returns_data(sma_crossover_dataset):\n",
    "\n",
    "  sma_crossover_dataset[\"algo_returns\"] = sma_crossover_dataset[\"returns\"] * sma_crossover_dataset[\"hold\"]\n",
    "  sma_return = round(sma_crossover_dataset[\"algo_returns\"].sum() * 100, 3)\n",
    "  buy_and_hold_return = round(sma_crossover_dataset[\"returns\"].sum() * 100, 3)\n",
    "  total_entries = sma_crossover_dataset[\"buy\"].sum()\n",
    "\n",
    "  return sma_return, buy_and_hold_return, total_entries"
   ]
  },
  {
   "cell_type": "code",
   "execution_count": 22,
   "metadata": {},
   "outputs": [
    {
     "name": "stderr",
     "output_type": "stream",
     "text": [
      "[*********************100%%**********************]  1 of 1 completed"
     ]
    },
    {
     "name": "stderr",
     "output_type": "stream",
     "text": [
      "\n"
     ]
    },
    {
     "ename": "KeyError",
     "evalue": "\"None of [Index(['date', 'adj close'], dtype='object')] are in the [columns]\"",
     "output_type": "error",
     "traceback": [
      "\u001b[1;31m---------------------------------------------------------------------------\u001b[0m",
      "\u001b[1;31mKeyError\u001b[0m                                  Traceback (most recent call last)",
      "Cell \u001b[1;32mIn[22], line 14\u001b[0m\n\u001b[0;32m      3\u001b[0m   stock_prices_dataset \u001b[38;5;241m=\u001b[39m _stock_prices_dataset(ticker)\n\u001b[0;32m      4\u001b[0m   \u001b[38;5;66;03m# start_date = stock_prices_dataset.iloc[0]['date']\u001b[39;00m\n\u001b[0;32m      5\u001b[0m   \u001b[38;5;66;03m# sma_stock_prices_dataset = _sma_stock_prices_dataset(stock_prices_dataset, long_sma, short_sma)\u001b[39;00m\n\u001b[0;32m      6\u001b[0m   \u001b[38;5;66;03m# sma_crossover_dataset = _sma_crossover_dataset(sma_stock_prices_dataset, long_sma, short_sma)\u001b[39;00m\n\u001b[1;32m   (...)\u001b[0m\n\u001b[0;32m     11\u001b[0m   \u001b[38;5;66;03m# print(f\"Buy and Hold Return: {buy_and_hold_return}\")\u001b[39;00m\n\u001b[0;32m     12\u001b[0m   \u001b[38;5;66;03m# print(f\"Total Entries: {total_entries}\")\u001b[39;00m\n\u001b[1;32m---> 14\u001b[0m sma_handler(\u001b[38;5;124m\"\u001b[39m\u001b[38;5;124mAAPL\u001b[39m\u001b[38;5;124m\"\u001b[39m)\n",
      "Cell \u001b[1;32mIn[22], line 3\u001b[0m, in \u001b[0;36msma_handler\u001b[1;34m(ticker, long_sma, short_sma)\u001b[0m\n\u001b[0;32m      1\u001b[0m \u001b[38;5;28;01mdef\u001b[39;00m \u001b[38;5;21msma_handler\u001b[39m(ticker, long_sma \u001b[38;5;241m=\u001b[39m \u001b[38;5;241m200\u001b[39m, short_sma \u001b[38;5;241m=\u001b[39m \u001b[38;5;241m50\u001b[39m):\n\u001b[1;32m----> 3\u001b[0m   stock_prices_dataset \u001b[38;5;241m=\u001b[39m _stock_prices_dataset(ticker)\n",
      "Cell \u001b[1;32mIn[21], line 16\u001b[0m, in \u001b[0;36m_stock_prices_dataset\u001b[1;34m(ticker)\u001b[0m\n\u001b[0;32m     11\u001b[0m stock_prices_dataset \u001b[38;5;241m=\u001b[39m yf\u001b[38;5;241m.\u001b[39mdownload(ticker, start\u001b[38;5;241m=\u001b[39m\u001b[38;5;124m\"\u001b[39m\u001b[38;5;124m2020-01-01\u001b[39m\u001b[38;5;124m\"\u001b[39m, end\u001b[38;5;241m=\u001b[39m\u001b[38;5;124m\"\u001b[39m\u001b[38;5;124m2021-01-01\u001b[39m\u001b[38;5;124m\"\u001b[39m)\n\u001b[0;32m     13\u001b[0m \u001b[38;5;66;03m# res = requests.get(f\"https://api-v2.intrinio.com/securities/{ticker}/prices?page_size=1000&api_key={intrinio_api_key}\")\u001b[39;00m\n\u001b[0;32m     14\u001b[0m \u001b[38;5;66;03m# stock_prices_dataset = pd.DataFrame(res.json().get(\"stock_prices\"))\u001b[39;00m\n\u001b[1;32m---> 16\u001b[0m stock_prices_dataset \u001b[38;5;241m=\u001b[39m stock_prices_dataset[[\u001b[38;5;124m\"\u001b[39m\u001b[38;5;124mdate\u001b[39m\u001b[38;5;124m\"\u001b[39m, \u001b[38;5;124m\"\u001b[39m\u001b[38;5;124madj close\u001b[39m\u001b[38;5;124m\"\u001b[39m]][::\u001b[38;5;241m-\u001b[39m\u001b[38;5;241m1\u001b[39m]\u001b[38;5;241m.\u001b[39mreset_index(drop\u001b[38;5;241m=\u001b[39m\u001b[38;5;28;01mTrue\u001b[39;00m)\n\u001b[0;32m     17\u001b[0m \u001b[38;5;28mprint\u001b[39m(stock_prices_dataset\u001b[38;5;241m.\u001b[39mhead())\n\u001b[0;32m     18\u001b[0m \u001b[38;5;28;01mreturn\u001b[39;00m stock_prices_dataset\n",
      "File \u001b[1;32mc:\\Users\\karth\\anaconda3\\Lib\\site-packages\\pandas\\core\\frame.py:3767\u001b[0m, in \u001b[0;36mDataFrame.__getitem__\u001b[1;34m(self, key)\u001b[0m\n\u001b[0;32m   3765\u001b[0m     \u001b[38;5;28;01mif\u001b[39;00m is_iterator(key):\n\u001b[0;32m   3766\u001b[0m         key \u001b[38;5;241m=\u001b[39m \u001b[38;5;28mlist\u001b[39m(key)\n\u001b[1;32m-> 3767\u001b[0m     indexer \u001b[38;5;241m=\u001b[39m \u001b[38;5;28mself\u001b[39m\u001b[38;5;241m.\u001b[39mcolumns\u001b[38;5;241m.\u001b[39m_get_indexer_strict(key, \u001b[38;5;124m\"\u001b[39m\u001b[38;5;124mcolumns\u001b[39m\u001b[38;5;124m\"\u001b[39m)[\u001b[38;5;241m1\u001b[39m]\n\u001b[0;32m   3769\u001b[0m \u001b[38;5;66;03m# take() does not accept boolean indexers\u001b[39;00m\n\u001b[0;32m   3770\u001b[0m \u001b[38;5;28;01mif\u001b[39;00m \u001b[38;5;28mgetattr\u001b[39m(indexer, \u001b[38;5;124m\"\u001b[39m\u001b[38;5;124mdtype\u001b[39m\u001b[38;5;124m\"\u001b[39m, \u001b[38;5;28;01mNone\u001b[39;00m) \u001b[38;5;241m==\u001b[39m \u001b[38;5;28mbool\u001b[39m:\n",
      "File \u001b[1;32mc:\\Users\\karth\\anaconda3\\Lib\\site-packages\\pandas\\core\\indexes\\base.py:5877\u001b[0m, in \u001b[0;36mIndex._get_indexer_strict\u001b[1;34m(self, key, axis_name)\u001b[0m\n\u001b[0;32m   5874\u001b[0m \u001b[38;5;28;01melse\u001b[39;00m:\n\u001b[0;32m   5875\u001b[0m     keyarr, indexer, new_indexer \u001b[38;5;241m=\u001b[39m \u001b[38;5;28mself\u001b[39m\u001b[38;5;241m.\u001b[39m_reindex_non_unique(keyarr)\n\u001b[1;32m-> 5877\u001b[0m \u001b[38;5;28mself\u001b[39m\u001b[38;5;241m.\u001b[39m_raise_if_missing(keyarr, indexer, axis_name)\n\u001b[0;32m   5879\u001b[0m keyarr \u001b[38;5;241m=\u001b[39m \u001b[38;5;28mself\u001b[39m\u001b[38;5;241m.\u001b[39mtake(indexer)\n\u001b[0;32m   5880\u001b[0m \u001b[38;5;28;01mif\u001b[39;00m \u001b[38;5;28misinstance\u001b[39m(key, Index):\n\u001b[0;32m   5881\u001b[0m     \u001b[38;5;66;03m# GH 42790 - Preserve name from an Index\u001b[39;00m\n",
      "File \u001b[1;32mc:\\Users\\karth\\anaconda3\\Lib\\site-packages\\pandas\\core\\indexes\\base.py:5938\u001b[0m, in \u001b[0;36mIndex._raise_if_missing\u001b[1;34m(self, key, indexer, axis_name)\u001b[0m\n\u001b[0;32m   5936\u001b[0m     \u001b[38;5;28;01mif\u001b[39;00m use_interval_msg:\n\u001b[0;32m   5937\u001b[0m         key \u001b[38;5;241m=\u001b[39m \u001b[38;5;28mlist\u001b[39m(key)\n\u001b[1;32m-> 5938\u001b[0m     \u001b[38;5;28;01mraise\u001b[39;00m \u001b[38;5;167;01mKeyError\u001b[39;00m(\u001b[38;5;124mf\u001b[39m\u001b[38;5;124m\"\u001b[39m\u001b[38;5;124mNone of [\u001b[39m\u001b[38;5;132;01m{\u001b[39;00mkey\u001b[38;5;132;01m}\u001b[39;00m\u001b[38;5;124m] are in the [\u001b[39m\u001b[38;5;132;01m{\u001b[39;00maxis_name\u001b[38;5;132;01m}\u001b[39;00m\u001b[38;5;124m]\u001b[39m\u001b[38;5;124m\"\u001b[39m)\n\u001b[0;32m   5940\u001b[0m not_found \u001b[38;5;241m=\u001b[39m \u001b[38;5;28mlist\u001b[39m(ensure_index(key)[missing_mask\u001b[38;5;241m.\u001b[39mnonzero()[\u001b[38;5;241m0\u001b[39m]]\u001b[38;5;241m.\u001b[39munique())\n\u001b[0;32m   5941\u001b[0m \u001b[38;5;28;01mraise\u001b[39;00m \u001b[38;5;167;01mKeyError\u001b[39;00m(\u001b[38;5;124mf\u001b[39m\u001b[38;5;124m\"\u001b[39m\u001b[38;5;132;01m{\u001b[39;00mnot_found\u001b[38;5;132;01m}\u001b[39;00m\u001b[38;5;124m not in index\u001b[39m\u001b[38;5;124m\"\u001b[39m)\n",
      "\u001b[1;31mKeyError\u001b[0m: \"None of [Index(['date', 'adj close'], dtype='object')] are in the [columns]\""
     ]
    }
   ],
   "source": [
    "def sma_handler(ticker, long_sma = 200, short_sma = 50):\n",
    "\n",
    "  stock_prices_dataset = _stock_prices_dataset(ticker)\n",
    "  # start_date = stock_prices_dataset.iloc[0]['date']\n",
    "  # sma_stock_prices_dataset = _sma_stock_prices_dataset(stock_prices_dataset, long_sma, short_sma)\n",
    "  # sma_crossover_dataset = _sma_crossover_dataset(sma_stock_prices_dataset, long_sma, short_sma)\n",
    "  # sma_return, buy_and_hold_return, total_entries = _sma_returns_data(sma_crossover_dataset)\n",
    "  \n",
    "  # print(f\"Start Date: {start_date}\")\n",
    "  # print(f\"SMA Return: {sma_return}\")\n",
    "  # print(f\"Buy and Hold Return: {buy_and_hold_return}\")\n",
    "  # print(f\"Total Entries: {total_entries}\")\n",
    "\n",
    "sma_handler(\"AAPL\")\n"
   ]
  }
 ],
 "metadata": {
  "kernelspec": {
   "display_name": "base",
   "language": "python",
   "name": "python3"
  },
  "language_info": {
   "codemirror_mode": {
    "name": "ipython",
    "version": 3
   },
   "file_extension": ".py",
   "mimetype": "text/x-python",
   "name": "python",
   "nbconvert_exporter": "python",
   "pygments_lexer": "ipython3",
   "version": "3.11.5"
  }
 },
 "nbformat": 4,
 "nbformat_minor": 2
}
